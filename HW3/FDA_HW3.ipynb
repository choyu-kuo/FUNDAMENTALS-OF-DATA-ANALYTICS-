{
 "cells": [
  {
   "cell_type": "markdown",
   "metadata": {},
   "source": [
    "# FDA_HW3\n",
    "\n",
    "E94041220 郭濯瑀"
   ]
  },
  {
   "cell_type": "code",
   "execution_count": 1,
   "metadata": {},
   "outputs": [],
   "source": [
    "import matplotlib.pyplot as plt\n",
    "import numpy as np\n",
    "import pandas as pd\n",
    "from sklearn import linear_model, metrics, model_selection\n",
    "import random"
   ]
  },
  {
   "cell_type": "markdown",
   "metadata": {},
   "source": [
    "# preprocess dataset\n",
    "\n",
    "### LOAD資料"
   ]
  },
  {
   "cell_type": "code",
   "execution_count": 2,
   "metadata": {},
   "outputs": [
    {
     "data": {
      "text/html": [
       "<div>\n",
       "<style scoped>\n",
       "    .dataframe tbody tr th:only-of-type {\n",
       "        vertical-align: middle;\n",
       "    }\n",
       "\n",
       "    .dataframe tbody tr th {\n",
       "        vertical-align: top;\n",
       "    }\n",
       "\n",
       "    .dataframe thead th {\n",
       "        text-align: right;\n",
       "    }\n",
       "</style>\n",
       "<table border=\"1\" class=\"dataframe\">\n",
       "  <thead>\n",
       "    <tr style=\"text-align: right;\">\n",
       "      <th></th>\n",
       "      <th>Date</th>\n",
       "      <th>Open Price</th>\n",
       "      <th>Close Price</th>\n",
       "      <th>High Price</th>\n",
       "      <th>Low Price</th>\n",
       "      <th>Volume</th>\n",
       "    </tr>\n",
       "  </thead>\n",
       "  <tbody>\n",
       "    <tr>\n",
       "      <th>0</th>\n",
       "      <td>02-Jan-2009</td>\n",
       "      <td>902.99</td>\n",
       "      <td>931.80</td>\n",
       "      <td>934.73</td>\n",
       "      <td>899.35</td>\n",
       "      <td>4048270080</td>\n",
       "    </tr>\n",
       "    <tr>\n",
       "      <th>1</th>\n",
       "      <td>05-Jan-2009</td>\n",
       "      <td>929.17</td>\n",
       "      <td>927.45</td>\n",
       "      <td>936.63</td>\n",
       "      <td>919.53</td>\n",
       "      <td>5413910016</td>\n",
       "    </tr>\n",
       "    <tr>\n",
       "      <th>2</th>\n",
       "      <td>06-Jan-2009</td>\n",
       "      <td>931.17</td>\n",
       "      <td>934.70</td>\n",
       "      <td>943.85</td>\n",
       "      <td>927.28</td>\n",
       "      <td>5392620032</td>\n",
       "    </tr>\n",
       "    <tr>\n",
       "      <th>3</th>\n",
       "      <td>07-Jan-2009</td>\n",
       "      <td>927.45</td>\n",
       "      <td>906.65</td>\n",
       "      <td>927.45</td>\n",
       "      <td>902.37</td>\n",
       "      <td>4704940032</td>\n",
       "    </tr>\n",
       "    <tr>\n",
       "      <th>4</th>\n",
       "      <td>08-Jan-2009</td>\n",
       "      <td>905.73</td>\n",
       "      <td>909.73</td>\n",
       "      <td>910.00</td>\n",
       "      <td>896.81</td>\n",
       "      <td>4991549952</td>\n",
       "    </tr>\n",
       "  </tbody>\n",
       "</table>\n",
       "</div>"
      ],
      "text/plain": [
       "          Date  Open Price  Close Price  High Price  Low Price      Volume\n",
       "0  02-Jan-2009      902.99       931.80      934.73     899.35  4048270080\n",
       "1  05-Jan-2009      929.17       927.45      936.63     919.53  5413910016\n",
       "2  06-Jan-2009      931.17       934.70      943.85     927.28  5392620032\n",
       "3  07-Jan-2009      927.45       906.65      927.45     902.37  4704940032\n",
       "4  08-Jan-2009      905.73       909.73      910.00     896.81  4991549952"
      ]
     },
     "execution_count": 2,
     "metadata": {},
     "output_type": "execute_result"
    }
   ],
   "source": [
    "data = pd.read_csv('data_HW3.csv')\n",
    "data.head()\n"
   ]
  },
  {
   "cell_type": "markdown",
   "metadata": {},
   "source": [
    "### 將Date轉成年-月-日"
   ]
  },
  {
   "cell_type": "code",
   "execution_count": 3,
   "metadata": {},
   "outputs": [
    {
     "data": {
      "text/html": [
       "<div>\n",
       "<style scoped>\n",
       "    .dataframe tbody tr th:only-of-type {\n",
       "        vertical-align: middle;\n",
       "    }\n",
       "\n",
       "    .dataframe tbody tr th {\n",
       "        vertical-align: top;\n",
       "    }\n",
       "\n",
       "    .dataframe thead th {\n",
       "        text-align: right;\n",
       "    }\n",
       "</style>\n",
       "<table border=\"1\" class=\"dataframe\">\n",
       "  <thead>\n",
       "    <tr style=\"text-align: right;\">\n",
       "      <th></th>\n",
       "      <th>Date</th>\n",
       "      <th>Open Price</th>\n",
       "      <th>Close Price</th>\n",
       "      <th>High Price</th>\n",
       "      <th>Low Price</th>\n",
       "      <th>Volume</th>\n",
       "    </tr>\n",
       "  </thead>\n",
       "  <tbody>\n",
       "    <tr>\n",
       "      <th>0</th>\n",
       "      <td>2009-01-02</td>\n",
       "      <td>902.99</td>\n",
       "      <td>931.80</td>\n",
       "      <td>934.73</td>\n",
       "      <td>899.35</td>\n",
       "      <td>4048270080</td>\n",
       "    </tr>\n",
       "    <tr>\n",
       "      <th>1</th>\n",
       "      <td>2009-01-05</td>\n",
       "      <td>929.17</td>\n",
       "      <td>927.45</td>\n",
       "      <td>936.63</td>\n",
       "      <td>919.53</td>\n",
       "      <td>5413910016</td>\n",
       "    </tr>\n",
       "    <tr>\n",
       "      <th>2</th>\n",
       "      <td>2009-01-06</td>\n",
       "      <td>931.17</td>\n",
       "      <td>934.70</td>\n",
       "      <td>943.85</td>\n",
       "      <td>927.28</td>\n",
       "      <td>5392620032</td>\n",
       "    </tr>\n",
       "    <tr>\n",
       "      <th>3</th>\n",
       "      <td>2009-01-07</td>\n",
       "      <td>927.45</td>\n",
       "      <td>906.65</td>\n",
       "      <td>927.45</td>\n",
       "      <td>902.37</td>\n",
       "      <td>4704940032</td>\n",
       "    </tr>\n",
       "    <tr>\n",
       "      <th>4</th>\n",
       "      <td>2009-01-08</td>\n",
       "      <td>905.73</td>\n",
       "      <td>909.73</td>\n",
       "      <td>910.00</td>\n",
       "      <td>896.81</td>\n",
       "      <td>4991549952</td>\n",
       "    </tr>\n",
       "  </tbody>\n",
       "</table>\n",
       "</div>"
      ],
      "text/plain": [
       "        Date  Open Price  Close Price  High Price  Low Price      Volume\n",
       "0 2009-01-02      902.99       931.80      934.73     899.35  4048270080\n",
       "1 2009-01-05      929.17       927.45      936.63     919.53  5413910016\n",
       "2 2009-01-06      931.17       934.70      943.85     927.28  5392620032\n",
       "3 2009-01-07      927.45       906.65      927.45     902.37  4704940032\n",
       "4 2009-01-08      905.73       909.73      910.00     896.81  4991549952"
      ]
     },
     "execution_count": 3,
     "metadata": {},
     "output_type": "execute_result"
    }
   ],
   "source": [
    "data['Date'] = pd.to_datetime(data['Date'])\n",
    "data.head()"
   ]
  },
  {
   "cell_type": "markdown",
   "metadata": {},
   "source": [
    "### 利用收盤價建立漲跌資料\n",
    "#### 今日收盤價-昨日收盤價 >0 :為漲(value=1) ； <0:為跌(value=0)"
   ]
  },
  {
   "cell_type": "code",
   "execution_count": 4,
   "metadata": {},
   "outputs": [
    {
     "data": {
      "text/html": [
       "<div>\n",
       "<style scoped>\n",
       "    .dataframe tbody tr th:only-of-type {\n",
       "        vertical-align: middle;\n",
       "    }\n",
       "\n",
       "    .dataframe tbody tr th {\n",
       "        vertical-align: top;\n",
       "    }\n",
       "\n",
       "    .dataframe thead th {\n",
       "        text-align: right;\n",
       "    }\n",
       "</style>\n",
       "<table border=\"1\" class=\"dataframe\">\n",
       "  <thead>\n",
       "    <tr style=\"text-align: right;\">\n",
       "      <th></th>\n",
       "      <th>Date</th>\n",
       "      <th>Open Price</th>\n",
       "      <th>Close Price</th>\n",
       "      <th>High Price</th>\n",
       "      <th>Low Price</th>\n",
       "      <th>Volume</th>\n",
       "      <th>Value</th>\n",
       "    </tr>\n",
       "  </thead>\n",
       "  <tbody>\n",
       "    <tr>\n",
       "      <th>0</th>\n",
       "      <td>2009-01-02</td>\n",
       "      <td>902.99</td>\n",
       "      <td>931.80</td>\n",
       "      <td>934.73</td>\n",
       "      <td>899.35</td>\n",
       "      <td>4048270080</td>\n",
       "      <td>0.0</td>\n",
       "    </tr>\n",
       "    <tr>\n",
       "      <th>1</th>\n",
       "      <td>2009-01-05</td>\n",
       "      <td>929.17</td>\n",
       "      <td>927.45</td>\n",
       "      <td>936.63</td>\n",
       "      <td>919.53</td>\n",
       "      <td>5413910016</td>\n",
       "      <td>0.0</td>\n",
       "    </tr>\n",
       "    <tr>\n",
       "      <th>2</th>\n",
       "      <td>2009-01-06</td>\n",
       "      <td>931.17</td>\n",
       "      <td>934.70</td>\n",
       "      <td>943.85</td>\n",
       "      <td>927.28</td>\n",
       "      <td>5392620032</td>\n",
       "      <td>1.0</td>\n",
       "    </tr>\n",
       "    <tr>\n",
       "      <th>3</th>\n",
       "      <td>2009-01-07</td>\n",
       "      <td>927.45</td>\n",
       "      <td>906.65</td>\n",
       "      <td>927.45</td>\n",
       "      <td>902.37</td>\n",
       "      <td>4704940032</td>\n",
       "      <td>0.0</td>\n",
       "    </tr>\n",
       "    <tr>\n",
       "      <th>4</th>\n",
       "      <td>2009-01-08</td>\n",
       "      <td>905.73</td>\n",
       "      <td>909.73</td>\n",
       "      <td>910.00</td>\n",
       "      <td>896.81</td>\n",
       "      <td>4991549952</td>\n",
       "      <td>1.0</td>\n",
       "    </tr>\n",
       "  </tbody>\n",
       "</table>\n",
       "</div>"
      ],
      "text/plain": [
       "        Date  Open Price  Close Price  High Price  Low Price      Volume  \\\n",
       "0 2009-01-02      902.99       931.80      934.73     899.35  4048270080   \n",
       "1 2009-01-05      929.17       927.45      936.63     919.53  5413910016   \n",
       "2 2009-01-06      931.17       934.70      943.85     927.28  5392620032   \n",
       "3 2009-01-07      927.45       906.65      927.45     902.37  4704940032   \n",
       "4 2009-01-08      905.73       909.73      910.00     896.81  4991549952   \n",
       "\n",
       "   Value  \n",
       "0    0.0  \n",
       "1    0.0  \n",
       "2    1.0  \n",
       "3    0.0  \n",
       "4    1.0  "
      ]
     },
     "execution_count": 4,
     "metadata": {},
     "output_type": "execute_result"
    }
   ],
   "source": [
    "value = pd.Series(data['Close Price'] - data['Close Price'].shift(1),\\\n",
    "                  index = data.index)\n",
    "value = value.bfill()\n",
    "value[value >= 0] = 1 \n",
    "value[value < 0] = 0 \n",
    "data['Value'] = value\n",
    "data.head()"
   ]
  },
  {
   "cell_type": "markdown",
   "metadata": {},
   "source": [
    "### 將Data分成train和test資料\n",
    "\n",
    "* train資料:02-Jan-2009 to 29-Dec-2017\n",
    "* test資料:02-Jan-2018 to 31-Dec-2018"
   ]
  },
  {
   "cell_type": "code",
   "execution_count": 5,
   "metadata": {},
   "outputs": [
    {
     "name": "stdout",
     "output_type": "stream",
     "text": [
      "        Date  Open Price  Close Price  High Price  Low Price      Volume  \\\n",
      "0 2009-01-02      902.99       931.80      934.73     899.35  4048270080   \n",
      "1 2009-01-05      929.17       927.45      936.63     919.53  5413910016   \n",
      "2 2009-01-06      931.17       934.70      943.85     927.28  5392620032   \n",
      "3 2009-01-07      927.45       906.65      927.45     902.37  4704940032   \n",
      "4 2009-01-08      905.73       909.73      910.00     896.81  4991549952   \n",
      "\n",
      "   Value  \n",
      "0    0.0  \n",
      "1    0.0  \n",
      "2    1.0  \n",
      "3    0.0  \n",
      "4    1.0  \n",
      "           Date  Open Price  Close Price  High Price  Low Price      Volume  \\\n",
      "2264 2018-01-02     2683.73      2695.81     2695.89    2682.36  1846463232   \n",
      "2265 2018-01-03     2697.85      2713.06     2714.37    2697.77  2090595328   \n",
      "2266 2018-01-04     2719.31      2723.99     2729.29    2719.07  2100767744   \n",
      "2267 2018-01-05     2731.33      2743.15     2743.45    2727.92  1918869120   \n",
      "2268 2018-01-08     2742.67      2747.71     2748.51    2737.60  1894823936   \n",
      "\n",
      "      Value  \n",
      "2264    1.0  \n",
      "2265    1.0  \n",
      "2266    1.0  \n",
      "2267    1.0  \n",
      "2268    1.0  \n"
     ]
    }
   ],
   "source": [
    "data_train = data[data['Date'].dt.year < 2018]\n",
    "data_test = data[data['Date'].dt.year == 2018]\n",
    "\n",
    "print(data_train.head())\n",
    "print(data_test.head())\n"
   ]
  },
  {
   "cell_type": "markdown",
   "metadata": {},
   "source": [
    "* training的資料2264筆\n",
    "* test的資料252筆"
   ]
  },
  {
   "cell_type": "code",
   "execution_count": 6,
   "metadata": {},
   "outputs": [
    {
     "data": {
      "text/plain": [
       "(2264, 7)"
      ]
     },
     "execution_count": 6,
     "metadata": {},
     "output_type": "execute_result"
    }
   ],
   "source": [
    "data_train.shape"
   ]
  },
  {
   "cell_type": "code",
   "execution_count": 7,
   "metadata": {},
   "outputs": [
    {
     "data": {
      "text/plain": [
       "(252, 7)"
      ]
     },
     "execution_count": 7,
     "metadata": {},
     "output_type": "execute_result"
    }
   ],
   "source": [
    "data_test.shape"
   ]
  },
  {
   "cell_type": "markdown",
   "metadata": {},
   "source": [
    "### 利用這些當成資料的feature\n",
    "* Open Price\n",
    "* Close Price\n",
    "* High Price\n",
    "* Low Price \n",
    "* Volume\n",
    "\n",
    "### 漲跌(value)當成target"
   ]
  },
  {
   "cell_type": "code",
   "execution_count": 8,
   "metadata": {},
   "outputs": [
    {
     "name": "stdout",
     "output_type": "stream",
     "text": [
      "1239 1025\n"
     ]
    }
   ],
   "source": [
    "x_train = data_train[['Open Price', 'Close Price', 'High Price', 'Low Price', 'Volume']]\n",
    "y_train = data_train['Value']\n",
    "x_test = data_test[['Open Price', 'Close Price', 'High Price', 'Low Price', 'Volume']]\n",
    "y_test = data_test['Value']\n",
    "\n",
    "#y_train.shape\n",
    "one = 0\n",
    "zero = 0\n",
    "for i in y_train:\n",
    "    if (i == 1):\n",
    "        one = one + 1\n",
    "    else:\n",
    "        zero = zero + 1\n",
    "print(one,zero)\n",
    "    \n",
    "   "
   ]
  },
  {
   "cell_type": "code",
   "execution_count": 9,
   "metadata": {},
   "outputs": [],
   "source": [
    "def evaluate(model, x_train, y_train, x_test, y_test):\n",
    "    train_preds = model.predict(x_train)\n",
    "    test_preds = model.predict(x_test)\n",
    "    train_acc = metrics.accuracy_score(y_train, train_preds)\n",
    "    test_acc = metrics.accuracy_score(y_test, test_preds)\n",
    "    print('Train accuracy: %s' % train_acc)\n",
    "    print('Test accuracy: %s' % test_acc)\n",
    "    #print(train_preds)"
   ]
  },
  {
   "cell_type": "markdown",
   "metadata": {},
   "source": [
    "# Logistic Regression"
   ]
  },
  {
   "cell_type": "code",
   "execution_count": 10,
   "metadata": {},
   "outputs": [
    {
     "name": "stdout",
     "output_type": "stream",
     "text": [
      "Train accuracy: 0.5472614840989399\n",
      "Test accuracy: 0.5277777777777778\n"
     ]
    },
    {
     "name": "stderr",
     "output_type": "stream",
     "text": [
      "C:\\Users\\user\\Anaconda3\\lib\\site-packages\\sklearn\\linear_model\\logistic.py:433: FutureWarning: Default solver will be changed to 'lbfgs' in 0.22. Specify a solver to silence this warning.\n",
      "  FutureWarning)\n"
     ]
    }
   ],
   "source": [
    "from sklearn.linear_model import LogisticRegression\n",
    "clf = LogisticRegression().fit(x_train, y_train)\n",
    "evaluate(clf, x_train, y_train, x_test, y_test)\n",
    "#print(clf)"
   ]
  },
  {
   "cell_type": "markdown",
   "metadata": {},
   "source": [
    "* 由結果看出準確度並不高"
   ]
  },
  {
   "cell_type": "markdown",
   "metadata": {},
   "source": [
    "## SVM\n",
    "\n"
   ]
  },
  {
   "cell_type": "markdown",
   "metadata": {},
   "source": [
    "* 由於SVM維度太高的話會跑不動，因此我drop掉Volume這個feature"
   ]
  },
  {
   "cell_type": "code",
   "execution_count": 11,
   "metadata": {},
   "outputs": [],
   "source": [
    "from sklearn.preprocessing import StandardScaler\n",
    "\n",
    "x_train_svm = x_train.drop(['Volume'],axis=1)\n",
    "x_test_svm = x_test.drop(['Volume'],axis=1)\n",
    "\n",
    "scaler = StandardScaler()\n",
    "scaler.fit(x_train_svm)\n",
    "\n",
    "x_train_std = scaler.transform(x_train_svm)\n",
    "x_test_std = scaler.transform(x_test_svm)"
   ]
  },
  {
   "cell_type": "code",
   "execution_count": 12,
   "metadata": {},
   "outputs": [],
   "source": [
    "from sklearn.svm import SVC"
   ]
  },
  {
   "cell_type": "code",
   "execution_count": 13,
   "metadata": {},
   "outputs": [
    {
     "name": "stdout",
     "output_type": "stream",
     "text": [
      "Penalty = 0.05, Accuracy = 82.14 %\n"
     ]
    }
   ],
   "source": [
    "from sklearn.metrics import accuracy_score\n",
    "\n",
    "\n",
    "# Custom kernel function\n",
    "def my_kernel(X, Y):\n",
    "    return np.dot(X, Y.T)\n",
    "  \n",
    "penalty = 0.05\n",
    "\n",
    "svm = SVC(C=penalty, kernel=\"linear\", probability=True)\n",
    "svm.fit(x_train_svm, y_train)\n",
    "  \n",
    "acc_rate = accuracy_score(y_test.values, svm.predict(x_test_svm)) * 100\n",
    "print(\"Penalty = %.2f, Accuracy = %.2f %%\" % (penalty, acc_rate))"
   ]
  },
  {
   "cell_type": "markdown",
   "metadata": {},
   "source": [
    "* 發現SVM這個方法準確率較logistic高出許多，大約8成\n",
    "\n",
    "### 因此我利用標準化過的data再跑一次，結果準確度下降了"
   ]
  },
  {
   "cell_type": "code",
   "execution_count": 14,
   "metadata": {},
   "outputs": [
    {
     "name": "stdout",
     "output_type": "stream",
     "text": [
      "Penalty = 0.05, Accuracy = 52.78 %\n"
     ]
    }
   ],
   "source": [
    "svm = SVC(C=penalty, kernel=\"linear\", probability=True)\n",
    "svm.fit(x_train_std, y_train)\n",
    "  \n",
    "acc_rate = accuracy_score(y_test.values, svm.predict(x_test_std)) * 100\n",
    "print(\"Penalty = %.2f, Accuracy = %.2f %%\" % (penalty, acc_rate))"
   ]
  },
  {
   "cell_type": "markdown",
   "metadata": {},
   "source": [
    "## NN\n",
    "\n",
    "#### 一開始先利用preprocessing normalize資料，搭建一層hidden layer, 10個unit"
   ]
  },
  {
   "cell_type": "code",
   "execution_count": 15,
   "metadata": {},
   "outputs": [],
   "source": [
    "from sklearn import model_selection, preprocessing\n",
    "x_train = preprocessing.normalize(x_train)\n",
    "x_test = preprocessing.normalize(x_test)"
   ]
  },
  {
   "cell_type": "code",
   "execution_count": 16,
   "metadata": {},
   "outputs": [],
   "source": [
    "hidden_units = 10    # how many neurons in the hidden layer\n",
    "activation = 'relu'  # activation function for hidden layer\n",
    "l2 = 0.001           # regularization - how much we penalize large parameter values\n",
    "learning_rate = 0.1  # how big our steps are in gradient descent\n",
    "epochs = 10          # how many epochs to train for\n",
    "batch_size = 32      # how many samples to use for each gradient descent update"
   ]
  },
  {
   "cell_type": "code",
   "execution_count": 17,
   "metadata": {},
   "outputs": [
    {
     "name": "stderr",
     "output_type": "stream",
     "text": [
      "Using TensorFlow backend.\n"
     ]
    },
    {
     "name": "stdout",
     "output_type": "stream",
     "text": [
      "WARNING:tensorflow:From C:\\Users\\user\\Anaconda3\\lib\\site-packages\\tensorflow\\python\\framework\\op_def_library.py:263: colocate_with (from tensorflow.python.framework.ops) is deprecated and will be removed in a future version.\n",
      "Instructions for updating:\n",
      "Colocations handled automatically by placer.\n"
     ]
    }
   ],
   "source": [
    "from keras import models, layers, optimizers, regularizers\n",
    "# create a sequential model\n",
    "model = models.Sequential()\n",
    "\n",
    "# add the hidden layer\n",
    "model.add(layers.Dense(input_dim=5,\n",
    "                       units=hidden_units, \n",
    "                       activation=activation))\n",
    "\n",
    "# add the output layer\n",
    "model.add(layers.Dense(input_dim=hidden_units,\n",
    "                       units=1,\n",
    "                       activation='sigmoid'))\n",
    "\n",
    "# define our loss function and optimizer\n",
    "model.compile(loss='binary_crossentropy',\n",
    "              # Adam is a kind of gradient descent\n",
    "              optimizer=optimizers.Adam(lr=learning_rate),\n",
    "              metrics=['accuracy'])"
   ]
  },
  {
   "cell_type": "code",
   "execution_count": 18,
   "metadata": {},
   "outputs": [],
   "source": [
    "class_weight = {\n",
    "    0: 1.,\n",
    "    1: 1239 / 1025\n",
    "}"
   ]
  },
  {
   "cell_type": "code",
   "execution_count": 19,
   "metadata": {},
   "outputs": [
    {
     "name": "stdout",
     "output_type": "stream",
     "text": [
      "WARNING:tensorflow:From C:\\Users\\user\\Anaconda3\\lib\\site-packages\\tensorflow\\python\\ops\\math_ops.py:3066: to_int32 (from tensorflow.python.ops.math_ops) is deprecated and will be removed in a future version.\n",
      "Instructions for updating:\n",
      "Use tf.cast instead.\n",
      "Epoch 1/10\n",
      "2264/2264 [==============================] - 0s 114us/step - loss: 0.7570 - acc: 0.5473\n",
      "Epoch 2/10\n",
      "2264/2264 [==============================] - 0s 29us/step - loss: 0.7546 - acc: 0.5473\n",
      "Epoch 3/10\n",
      "2264/2264 [==============================] - 0s 29us/step - loss: 0.7542 - acc: 0.5473\n",
      "Epoch 4/10\n",
      "2264/2264 [==============================] - 0s 27us/step - loss: 0.7555 - acc: 0.5473\n",
      "Epoch 5/10\n",
      "2264/2264 [==============================] - 0s 28us/step - loss: 0.7572 - acc: 0.5473\n",
      "Epoch 6/10\n",
      "2264/2264 [==============================] - 0s 28us/step - loss: 0.7561 - acc: 0.5473\n",
      "Epoch 7/10\n",
      "2264/2264 [==============================] - 0s 26us/step - loss: 0.7554 - acc: 0.5473\n",
      "Epoch 8/10\n",
      "2264/2264 [==============================] - 0s 30us/step - loss: 0.7543 - acc: 0.5473\n",
      "Epoch 9/10\n",
      "2264/2264 [==============================] - 0s 28us/step - loss: 0.7539 - acc: 0.5473\n",
      "Epoch 10/10\n",
      "2264/2264 [==============================] - 0s 29us/step - loss: 0.7542 - acc: 0.5473\n",
      "2264/2264 [==============================] - ETA:  - 0s 26us/step\n",
      "252/252 [==============================] - 0s 16us/step\n",
      "Training accuracy: 0.5472614842042485\n",
      "Testing accuracy: 0.5277777763586196\n"
     ]
    },
    {
     "data": {
      "image/png": "[encoded data removed]",
      "text/plain": [
       "<Figure size 432x288 with 1 Axes>"
      ]
     },
     "metadata": {
      "needs_background": "light"
     },
     "output_type": "display_data"
    }
   ],
   "source": [
    "\n",
    "# train the parameters\n",
    "history = model.fit(x_train, y_train, epochs=10, batch_size=batch_size, class_weight=class_weight)\n",
    "\n",
    "# evaluate accuracy\n",
    "train_acc = model.evaluate(x_train, y_train, batch_size=32)[1]\n",
    "test_acc = model.evaluate(x_test, y_test, batch_size=32)[1]\n",
    "print('Training accuracy: %s' % train_acc)\n",
    "print('Testing accuracy: %s' % test_acc)\n",
    "\n",
    "losses = history.history['loss']\n",
    "plt.plot(range(len(losses)), losses, 'r')\n",
    "plt.show()"
   ]
  },
  {
   "cell_type": "markdown",
   "metadata": {},
   "source": [
    "* 發現準確度並不高"
   ]
  },
  {
   "cell_type": "code",
   "execution_count": 20,
   "metadata": {},
   "outputs": [
    {
     "name": "stdout",
     "output_type": "stream",
     "text": [
      "[[2.23055770e-07 2.30172390e-07 2.30896156e-07 2.22156621e-07\n",
      "  1.00000000e+00]\n",
      " [1.71626421e-07 1.71308721e-07 1.73004353e-07 1.69845823e-07\n",
      "  1.00000000e+00]\n",
      " [1.72674877e-07 1.73329475e-07 1.75026239e-07 1.71953521e-07\n",
      "  1.00000000e+00]\n",
      " ...\n",
      " [2.33407058e-06 2.33452311e-06 2.33715123e-06 2.33129452e-06\n",
      "  1.00000000e+00]\n",
      " [2.38533363e-06 2.38661239e-06 2.38671895e-06 2.38230545e-06\n",
      "  1.00000000e+00]\n",
      " [2.01831465e-06 2.00665126e-06 2.02054376e-06 2.00665126e-06\n",
      "  1.00000000e+00]]\n"
     ]
    }
   ],
   "source": [
    "print(x_train)"
   ]
  },
  {
   "cell_type": "markdown",
   "metadata": {},
   "source": [
    "* print出nomorlize過的資料，發現值都是正數\n",
    "* 但是NN主要會先將資料正規為-1到+1之間\n",
    "* 因此，我將資料*2-1再跑一次"
   ]
  },
  {
   "cell_type": "code",
   "execution_count": 21,
   "metadata": {},
   "outputs": [
    {
     "name": "stdout",
     "output_type": "stream",
     "text": [
      "Epoch 1/10\n",
      "2264/2264 [==============================] - 0s 133us/step - loss: 0.7627 - acc: 0.5446\n",
      "Epoch 2/10\n",
      "2264/2264 [==============================] - 0s 30us/step - loss: 0.7538 - acc: 0.5473\n",
      "Epoch 3/10\n",
      "2264/2264 [==============================] - 0s 29us/step - loss: 0.7548 - acc: 0.5473\n",
      "Epoch 4/10\n",
      "2264/2264 [==============================] - 0s 30us/step - loss: 0.7542 - acc: 0.5473\n",
      "Epoch 5/10\n",
      "2264/2264 [==============================] - 0s 29us/step - loss: 0.7545 - acc: 0.5473\n",
      "Epoch 6/10\n",
      "2264/2264 [==============================] - 0s 29us/step - loss: 0.7539 - acc: 0.5473\n",
      "Epoch 7/10\n",
      "2264/2264 [==============================] - 0s 27us/step - loss: 0.7549 - acc: 0.5473\n",
      "Epoch 8/10\n",
      "2264/2264 [==============================] - 0s 25us/step - loss: 0.7541 - acc: 0.5473\n",
      "Epoch 9/10\n",
      "2264/2264 [==============================] - 0s 27us/step - loss: 0.7543 - acc: 0.5473\n",
      "Epoch 10/10\n",
      "2264/2264 [==============================] - 0s 25us/step - loss: 0.7543 - acc: 0.5473\n",
      "2264/2264 [==============================] - 0s 28us/step\n",
      "252/252 [==============================] - 0s 16us/step\n",
      "Training accuracy: 0.5472614842042485\n",
      "Testing accuracy: 0.5277777763586196\n"
     ]
    },
    {
     "data": {
      "image/png": "[encoded data removed]",
      "text/plain": [
       "<Figure size 432x288 with 1 Axes>"
      ]
     },
     "metadata": {
      "needs_background": "light"
     },
     "output_type": "display_data"
    }
   ],
   "source": [
    "x_train = x_train*2-1\n",
    "x_test = x_test*2-1\n",
    "# create a sequential model\n",
    "model = models.Sequential()\n",
    "\n",
    "# add the hidden layer\n",
    "model.add(layers.Dense(input_dim=5,\n",
    "                       units=hidden_units, \n",
    "                       activation=activation))\n",
    "\n",
    "# add the output layer\n",
    "model.add(layers.Dense(input_dim=hidden_units,\n",
    "                       units=1,\n",
    "                       activation='sigmoid'))\n",
    "\n",
    "# define our loss function and optimizer\n",
    "model.compile(loss='binary_crossentropy',\n",
    "              # Adam is a kind of gradient descent\n",
    "              optimizer=optimizers.Adam(lr=learning_rate),\n",
    "              metrics=['accuracy'])\n",
    "\n",
    "class_weight = {\n",
    "    0: 1.,\n",
    "    1: 1239 / 1025\n",
    "}\n",
    "\n",
    "\n",
    "# train the parameters\n",
    "history = model.fit(x_train, y_train, epochs=10, batch_size=batch_size, class_weight=class_weight)\n",
    "\n",
    "# evaluate accuracy\n",
    "train_acc = model.evaluate(x_train, y_train, batch_size=32)[1]\n",
    "test_acc = model.evaluate(x_test, y_test, batch_size=32)[1]\n",
    "print('Training accuracy: %s' % train_acc)\n",
    "print('Testing accuracy: %s' % test_acc)\n",
    "\n",
    "losses = history.history['loss']\n",
    "plt.plot(range(len(losses)), losses, 'r')\n",
    "plt.show()"
   ]
  },
  {
   "cell_type": "code",
   "execution_count": 22,
   "metadata": {},
   "outputs": [
    {
     "name": "stdout",
     "output_type": "stream",
     "text": [
      "[[-0.99999955 -0.99999954 -0.99999954 -0.99999956  1.        ]\n",
      " [-0.99999966 -0.99999966 -0.99999965 -0.99999966  1.        ]\n",
      " [-0.99999965 -0.99999965 -0.99999965 -0.99999966  1.        ]\n",
      " ...\n",
      " [-0.99999533 -0.99999533 -0.99999533 -0.99999534  1.        ]\n",
      " [-0.99999523 -0.99999523 -0.99999523 -0.99999524  1.        ]\n",
      " [-0.99999596 -0.99999599 -0.99999596 -0.99999599  1.        ]]\n"
     ]
    }
   ],
   "source": [
    "print(x_train)"
   ]
  },
  {
   "cell_type": "markdown",
   "metadata": {},
   "source": [
    "* 發現準確度還是不太高\n",
    "\n",
    "#### 因此決定加深層數"
   ]
  },
  {
   "cell_type": "code",
   "execution_count": 24,
   "metadata": {},
   "outputs": [
    {
     "name": "stdout",
     "output_type": "stream",
     "text": [
      "Epoch 1/10\n",
      "2264/2264 [==============================] - 0s 153us/step - loss: 0.7590 - acc: 0.5437\n",
      "Epoch 2/10\n",
      "2264/2264 [==============================] - 0s 29us/step - loss: 0.7551 - acc: 0.5473\n",
      "Epoch 3/10\n",
      "2264/2264 [==============================] - 0s 30us/step - loss: 0.7554 - acc: 0.5473\n",
      "Epoch 4/10\n",
      "2264/2264 [==============================] - 0s 29us/step - loss: 0.7538 - acc: 0.5473\n",
      "Epoch 5/10\n",
      "2264/2264 [==============================] - 0s 28us/step - loss: 0.7579 - acc: 0.5428\n",
      "Epoch 6/10\n",
      "2264/2264 [==============================] - 0s 20us/step - loss: 0.7555 - acc: 0.5473\n",
      "Epoch 7/10\n",
      "2264/2264 [==============================] - 0s 30us/step - loss: 0.7540 - acc: 0.5473\n",
      "Epoch 8/10\n",
      "2264/2264 [==============================] - 0s 26us/step - loss: 0.7560 - acc: 0.5473\n",
      "Epoch 9/10\n",
      "2264/2264 [==============================] - 0s 31us/step - loss: 0.7544 - acc: 0.5473\n",
      "Epoch 10/10\n",
      "2264/2264 [==============================] - 0s 32us/step - loss: 0.7554 - acc: 0.5473\n",
      "2264/2264 [==============================] - 0s 39us/step\n",
      "252/252 [==============================] - 0s 24us/step\n",
      "Training accuracy: 0.5472614842042485\n",
      "Testing accuracy: 0.5277777763586196\n"
     ]
    },
    {
     "data": {
      "image/png": "[encoded data removed]",
      "text/plain": [
       "<Figure size 432x288 with 1 Axes>"
      ]
     },
     "metadata": {
      "needs_background": "light"
     },
     "output_type": "display_data"
    }
   ],
   "source": [
    "# create a sequential model\n",
    "model = models.Sequential()\n",
    "\n",
    "# add the hidden layer\n",
    "model.add(layers.Dense(input_dim=5,\n",
    "                       units=hidden_units, \n",
    "                       activation=activation))\n",
    "\n",
    "model.add(layers.Dense(input_dim=hidden_units,\n",
    "                       units=40, \n",
    "                       activation=activation))\n",
    "\n",
    "\n",
    "# add the output layer\n",
    "model.add(layers.Dense(input_dim=40,\n",
    "                       units=1,\n",
    "                       activation='sigmoid'))\n",
    "\n",
    "# define our loss function and optimizer\n",
    "model.compile(loss='binary_crossentropy',\n",
    "              # Adam is a kind of gradient descent\n",
    "              optimizer=optimizers.Adam(lr=learning_rate),\n",
    "              metrics=['accuracy'])\n",
    "\n",
    "class_weight = {\n",
    "    0: 1.,\n",
    "    1: 1239 / 1025\n",
    "}\n",
    "\n",
    "\n",
    "# train the parameters\n",
    "history = model.fit(x_train, y_train, epochs=10, batch_size=batch_size, class_weight=class_weight)\n",
    "\n",
    "# evaluate accuracy\n",
    "train_acc = model.evaluate(x_train, y_train, batch_size=32)[1]\n",
    "test_acc = model.evaluate(x_test, y_test, batch_size=32)[1]\n",
    "print('Training accuracy: %s' % train_acc)\n",
    "print('Testing accuracy: %s' % test_acc)\n",
    "\n",
    "losses = history.history['loss']\n",
    "plt.plot(range(len(losses)), losses, 'r')\n",
    "plt.show()"
   ]
  },
  {
   "cell_type": "markdown",
   "metadata": {},
   "source": [
    "* 發現準確度還是不太高"
   ]
  },
  {
   "cell_type": "markdown",
   "metadata": {},
   "source": [
    "# Report\n",
    "\n",
    "利用Logistic Regression, SVM, Neural Network 這三種模型預測股票都不是很準確，只有在SVM拿掉volume這個feature才稍微準確一點，因此由這可知這些feature並不能夠預測股票的漲跌，可能還是跟當時的股市有極大的關西\n"
   ]
  },
  {
   "cell_type": "code",
   "execution_count": null,
   "metadata": {},
   "outputs": [],
   "source": []
  }
 ],
 "metadata": {
  "kernelspec": {
   "display_name": "Python 3",
   "language": "python",
   "name": "python3"
  },
  "language_info": {
   "codemirror_mode": {
    "name": "ipython",
    "version": 3
   },
   "file_extension": ".py",
   "mimetype": "text/x-python",
   "name": "python",
   "nbconvert_exporter": "python",
   "pygments_lexer": "ipython3",
   "version": "3.7.1"
  }
 },
 "nbformat": 4,
 "nbformat_minor": 2
}
